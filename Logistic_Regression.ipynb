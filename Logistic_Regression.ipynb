{
  "cells": [
    {
      "cell_type": "markdown",
      "metadata": {
        "id": "view-in-github",
        "colab_type": "text"
      },
      "source": [
        "<a href=\"https://colab.research.google.com/github/ehadsaloF/Multinomial-Logistic-Regression/blob/main/Logistic_Regression.ipynb\" target=\"_parent\"><img src=\"https://colab.research.google.com/assets/colab-badge.svg\" alt=\"Open In Colab\"/></a>"
      ]
    },
    {
      "cell_type": "markdown",
      "id": "ecae6d18",
      "metadata": {
        "id": "ecae6d18"
      },
      "source": [
        "## Analysis of Customer Data Using Multiple Logistic Regression "
      ]
    },
    {
      "cell_type": "markdown",
      "id": "65d6439e",
      "metadata": {
        "id": "65d6439e"
      },
      "source": [
        "The main objective of this report is to analyse customer data from Fresco Supermarket and identify trends and patterns. The data used for this analysis was collected for several of their loyalty cardholders during a 26-week period. The data includes information on the customers’ gender, age, shopping frequency per week and shopping basket price. "
      ]
    },
    {
      "cell_type": "code",
      "execution_count": null,
      "id": "e95a3f41",
      "metadata": {
        "id": "e95a3f41"
      },
      "outputs": [],
      "source": [
        "#import neccessary libraries\n",
        "import pandas as pd\n",
        "import numpy as np\n",
        "import seaborn as sns\n",
        "import matplotlib.pyplot as plt\n",
        "from pandas.plotting import scatter_matrix\n",
        "from sklearn.model_selection import train_test_split\n",
        "from sklearn.linear_model import LogisticRegression\n",
        "from sklearn.metrics import classification_report\n",
        "from sklearn import metrics \n",
        "from sklearn.metrics import confusion_matrix\n",
        "import statsmodels.api as sm\n",
        "from statsmodels.stats.outliers_influence import variance_inflation_factor\n",
        "from sklearn.metrics import ConfusionMatrixDisplay\n",
        "\n",
        "from sklearn.metrics import precision_score, recall_score, accuracy_score, f1_score\n",
        "\n",
        "# setting logging to print only error messages from Sklearnex\n",
        "import logging\n",
        "logging.basicConfig()\n",
        "logging.getLogger(\"SKLEARNEX\").setLevel(logging.ERROR)\n",
        "\n",
        "import warnings\n",
        "warnings.filterwarnings('ignore')\n",
        "\n",
        "#setting style\n",
        "sns.set_style('white')"
      ]
    },
    {
      "cell_type": "markdown",
      "id": "9a92e149",
      "metadata": {
        "id": "9a92e149"
      },
      "source": [
        "### Loading the Data"
      ]
    },
    {
      "cell_type": "code",
      "execution_count": null,
      "id": "b27fc74f",
      "metadata": {
        "id": "b27fc74f"
      },
      "outputs": [],
      "source": [
        "df = pd.read_excel('Portfolio-Task-1-Data_Fresco.xlsx')"
      ]
    },
    {
      "cell_type": "code",
      "execution_count": null,
      "id": "bd4bf478",
      "metadata": {
        "id": "bd4bf478",
        "outputId": "a5fcf097-c763-40c4-ddf7-0a5c40b51233"
      },
      "outputs": [
        {
          "data": {
            "text/html": [
              "<div>\n",
              "<style scoped>\n",
              "    .dataframe tbody tr th:only-of-type {\n",
              "        vertical-align: middle;\n",
              "    }\n",
              "\n",
              "    .dataframe tbody tr th {\n",
              "        vertical-align: top;\n",
              "    }\n",
              "\n",
              "    .dataframe thead th {\n",
              "        text-align: right;\n",
              "    }\n",
              "</style>\n",
              "<table border=\"1\" class=\"dataframe\">\n",
              "  <thead>\n",
              "    <tr style=\"text-align: right;\">\n",
              "      <th></th>\n",
              "      <th>CustomerID</th>\n",
              "      <th>Shopping Basket</th>\n",
              "      <th>Gender</th>\n",
              "      <th>Age</th>\n",
              "      <th>Store Type</th>\n",
              "      <th>Value Products</th>\n",
              "      <th>Brand Products</th>\n",
              "      <th>Top Fresco Products</th>\n",
              "    </tr>\n",
              "  </thead>\n",
              "  <tbody>\n",
              "    <tr>\n",
              "      <th>0</th>\n",
              "      <td>62507227</td>\n",
              "      <td>91.37</td>\n",
              "      <td>Male</td>\n",
              "      <td>41</td>\n",
              "      <td>Online</td>\n",
              "      <td>31</td>\n",
              "      <td>15</td>\n",
              "      <td>15</td>\n",
              "    </tr>\n",
              "    <tr>\n",
              "      <th>1</th>\n",
              "      <td>33786344</td>\n",
              "      <td>64.26</td>\n",
              "      <td>Female</td>\n",
              "      <td>37</td>\n",
              "      <td>Superstore</td>\n",
              "      <td>13</td>\n",
              "      <td>4</td>\n",
              "      <td>4</td>\n",
              "    </tr>\n",
              "    <tr>\n",
              "      <th>2</th>\n",
              "      <td>46393752</td>\n",
              "      <td>76.60</td>\n",
              "      <td>Female</td>\n",
              "      <td>64</td>\n",
              "      <td>Superstore</td>\n",
              "      <td>31</td>\n",
              "      <td>17</td>\n",
              "      <td>17</td>\n",
              "    </tr>\n",
              "    <tr>\n",
              "      <th>3</th>\n",
              "      <td>48985995</td>\n",
              "      <td>59.15</td>\n",
              "      <td>Female</td>\n",
              "      <td>48</td>\n",
              "      <td>Superstore</td>\n",
              "      <td>23</td>\n",
              "      <td>11</td>\n",
              "      <td>4</td>\n",
              "    </tr>\n",
              "    <tr>\n",
              "      <th>4</th>\n",
              "      <td>35940563</td>\n",
              "      <td>11.62</td>\n",
              "      <td>Male</td>\n",
              "      <td>19</td>\n",
              "      <td>Superstore</td>\n",
              "      <td>5</td>\n",
              "      <td>4</td>\n",
              "      <td>1</td>\n",
              "    </tr>\n",
              "  </tbody>\n",
              "</table>\n",
              "</div>"
            ],
            "text/plain": [
              "   CustomerID  Shopping Basket  Gender  Age  Store Type  Value Products  \\\n",
              "0    62507227            91.37    Male   41      Online              31   \n",
              "1    33786344            64.26  Female   37  Superstore              13   \n",
              "2    46393752            76.60  Female   64  Superstore              31   \n",
              "3    48985995            59.15  Female   48  Superstore              23   \n",
              "4    35940563            11.62    Male   19  Superstore               5   \n",
              "\n",
              "   Brand Products  Top Fresco Products  \n",
              "0              15                   15  \n",
              "1               4                    4  \n",
              "2              17                   17  \n",
              "3              11                    4  \n",
              "4               4                    1  "
            ]
          },
          "execution_count": 3,
          "metadata": {},
          "output_type": "execute_result"
        }
      ],
      "source": [
        "#viewing the first five records in the datastet\n",
        "df.head()"
      ]
    },
    {
      "cell_type": "code",
      "execution_count": null,
      "id": "1cad962d",
      "metadata": {
        "id": "1cad962d",
        "outputId": "1d9ea155-9af4-4e60-9a0b-0654c2f1a116"
      },
      "outputs": [
        {
          "data": {
            "text/plain": [
              "(750, 8)"
            ]
          },
          "execution_count": 4,
          "metadata": {},
          "output_type": "execute_result"
        }
      ],
      "source": [
        "df.shape"
      ]
    },
    {
      "cell_type": "markdown",
      "id": "c2b1dcf9",
      "metadata": {
        "id": "c2b1dcf9"
      },
      "source": [
        "The data set has 9 columns and 750 rows.\n"
      ]
    },
    {
      "cell_type": "code",
      "execution_count": null,
      "id": "c03fd988",
      "metadata": {
        "id": "c03fd988"
      },
      "outputs": [],
      "source": [
        "#creating a variable containing three categories based on \n",
        "#shopping basket values\n",
        "#Low spender for values of £25 or less, \n",
        "#medium spender for values between £25.01 and £70 and \n",
        "#high spender for values greater than £70.  \n",
        "\n",
        "bins = [0, 25.01, 70, np.inf]\n",
        "names = ['low_spender', 'med_spender', 'high_spender']\n",
        "\n",
        "df['SpendingRange'] = pd.cut(df['Shopping Basket'], bins, labels=names)"
      ]
    },
    {
      "cell_type": "markdown",
      "id": "87807c16",
      "metadata": {
        "id": "87807c16"
      },
      "source": [
        "The shopping basket price was categorized into three categories: Low spender for values of £25 or less, medium spender for values between £25.01 and £70 and high spender for values greater than £70.  "
      ]
    },
    {
      "cell_type": "markdown",
      "id": "5de99954",
      "metadata": {
        "id": "5de99954"
      },
      "source": [
        "### Data Splitting"
      ]
    },
    {
      "cell_type": "markdown",
      "id": "2d6ef751",
      "metadata": {
        "id": "2d6ef751"
      },
      "source": [
        "The data is split into training and testing datasets. The training dataset is used to train the model and the testing data set is used to evaluate the performance on the model on real world data.\n",
        "\n",
        "Stratified sampling is used in this project."
      ]
    },
    {
      "cell_type": "code",
      "execution_count": null,
      "id": "211182a0",
      "metadata": {
        "id": "211182a0"
      },
      "outputs": [],
      "source": [
        "# splitting the data into two parts, training set with 70% of the data\n",
        "# and testing set with 30% of the data\n",
        "trainset, testset = train_test_split(df, test_size = 0.3, random_state = 9,\n",
        "                 stratify = df[\"SpendingRange\"])"
      ]
    },
    {
      "cell_type": "markdown",
      "id": "d9eee7b7",
      "metadata": {
        "id": "d9eee7b7"
      },
      "source": [
        "### Exploratory Data Analysis"
      ]
    },
    {
      "cell_type": "code",
      "execution_count": null,
      "id": "b338a8b3",
      "metadata": {
        "id": "b338a8b3",
        "outputId": "64d1dc6c-c821-4220-e70b-4d5302694cc7"
      },
      "outputs": [
        {
          "name": "stdout",
          "output_type": "stream",
          "text": [
            "<class 'pandas.core.frame.DataFrame'>\n",
            "Int64Index: 525 entries, 510 to 328\n",
            "Data columns (total 9 columns):\n",
            " #   Column               Non-Null Count  Dtype   \n",
            "---  ------               --------------  -----   \n",
            " 0   CustomerID           525 non-null    int64   \n",
            " 1   Shopping Basket      525 non-null    float64 \n",
            " 2   Gender               525 non-null    object  \n",
            " 3   Age                  525 non-null    int64   \n",
            " 4   Store Type           525 non-null    object  \n",
            " 5   Value Products       525 non-null    int64   \n",
            " 6   Brand Products       525 non-null    int64   \n",
            " 7   Top Fresco Products  525 non-null    int64   \n",
            " 8   SpendingRange        525 non-null    category\n",
            "dtypes: category(1), float64(1), int64(5), object(2)\n",
            "memory usage: 37.6+ KB\n"
          ]
        }
      ],
      "source": [
        "#checking the columns and their datatypes\n",
        "trainset.info()"
      ]
    },
    {
      "cell_type": "markdown",
      "id": "e980c5ab",
      "metadata": {
        "id": "e980c5ab"
      },
      "source": [
        "From the table above, there are 3 categorical variables, the gender, storetype and spending range. it is observed that there are no null values in the dataset."
      ]
    },
    {
      "cell_type": "code",
      "execution_count": null,
      "id": "e160299d",
      "metadata": {
        "id": "e160299d",
        "outputId": "2524258b-89ee-43ca-da2f-3ba38c582122"
      },
      "outputs": [
        {
          "data": {
            "text/plain": [
              "(525, 9)"
            ]
          },
          "execution_count": 8,
          "metadata": {},
          "output_type": "execute_result"
        }
      ],
      "source": [
        "#checking the shape of the trainset\n",
        "trainset.shape"
      ]
    },
    {
      "cell_type": "markdown",
      "id": "7f9fe587",
      "metadata": {
        "id": "7f9fe587"
      },
      "source": [
        "The training data set has 9 columns and 525 rows."
      ]
    },
    {
      "cell_type": "markdown",
      "id": "94ec849d",
      "metadata": {
        "id": "94ec849d"
      },
      "source": [
        "#### Descriptive Statistics"
      ]
    },
    {
      "cell_type": "code",
      "execution_count": null,
      "id": "b1c8d8c0",
      "metadata": {
        "id": "b1c8d8c0",
        "outputId": "0d1baf88-f4a6-4fe1-a40f-da76a4bc016f"
      },
      "outputs": [
        {
          "data": {
            "text/plain": [
              "Male      0.504762\n",
              "Female    0.483810\n",
              "male      0.011429\n",
              "Name: Gender, dtype: float64"
            ]
          },
          "execution_count": 9,
          "metadata": {},
          "output_type": "execute_result"
        }
      ],
      "source": [
        "#displaying the proportions of categories for each categorical variable\n",
        "trainset['Gender'].value_counts(normalize=True)"
      ]
    },
    {
      "cell_type": "code",
      "execution_count": null,
      "id": "46c89287",
      "metadata": {
        "id": "46c89287"
      },
      "outputs": [],
      "source": [
        "#from the output above, the male gender is listed twice because of\n",
        "#python's case sensitivity\n",
        "\n",
        "#replacing the 'male' category with 'Male' category for the trainset\n",
        "# and testset\n",
        "trainset['Gender'] = trainset['Gender'].replace({\n",
        "    'male':'Male'\n",
        "})\n",
        "\n",
        "testset['Gender'] = testset['Gender'].replace({\n",
        "    'male':'Male'\n",
        "})"
      ]
    },
    {
      "cell_type": "code",
      "execution_count": null,
      "id": "82cd03fe",
      "metadata": {
        "id": "82cd03fe",
        "outputId": "f662dff7-61b3-45df-896d-ce4e1742ee2d"
      },
      "outputs": [
        {
          "data": {
            "text/plain": [
              "Male      0.51619\n",
              "Female    0.48381\n",
              "Name: Gender, dtype: float64"
            ]
          },
          "execution_count": 11,
          "metadata": {},
          "output_type": "execute_result"
        }
      ],
      "source": [
        "trainset['Gender'].value_counts(normalize=True)"
      ]
    },
    {
      "cell_type": "markdown",
      "id": "82098848",
      "metadata": {
        "id": "82098848"
      },
      "source": [
        "From the output, we see there are two unique catgories in the gender variable with almost similar proportions."
      ]
    },
    {
      "cell_type": "code",
      "execution_count": null,
      "id": "90517246",
      "metadata": {
        "id": "90517246",
        "outputId": "f29c4c25-fa2a-428b-809e-40bd36ac7e75"
      },
      "outputs": [
        {
          "data": {
            "text/plain": [
              "Superstore           0.464762\n",
              "Online               0.276190\n",
              "Convenient Stores    0.259048\n",
              "Name: Store Type, dtype: float64"
            ]
          },
          "execution_count": 12,
          "metadata": {},
          "output_type": "execute_result"
        }
      ],
      "source": [
        "trainset['Store Type'].value_counts(normalize=True)"
      ]
    },
    {
      "cell_type": "markdown",
      "id": "a91bdb96",
      "metadata": {
        "id": "a91bdb96"
      },
      "source": [
        "From the output, we see there are three unique Store Type with Superstores having the highest proportion."
      ]
    },
    {
      "cell_type": "code",
      "execution_count": null,
      "id": "313268e9",
      "metadata": {
        "id": "313268e9",
        "outputId": "bd569118-5b64-40a2-f678-b3a291670875"
      },
      "outputs": [
        {
          "data": {
            "text/plain": [
              "med_spender     0.398095\n",
              "high_spender    0.369524\n",
              "low_spender     0.232381\n",
              "Name: SpendingRange, dtype: float64"
            ]
          },
          "execution_count": 13,
          "metadata": {},
          "output_type": "execute_result"
        }
      ],
      "source": [
        "trainset['SpendingRange'].value_counts(normalize=True)"
      ]
    },
    {
      "cell_type": "markdown",
      "id": "2f58afcd",
      "metadata": {
        "id": "2f58afcd"
      },
      "source": [
        "From the output, we see there are three unique catgories of spenders with medium spenders having the highest proportion, followed by high spenders."
      ]
    },
    {
      "cell_type": "code",
      "execution_count": null,
      "id": "abfba3e2",
      "metadata": {
        "id": "abfba3e2"
      },
      "outputs": [],
      "source": [
        "#dropping the customerID and ShoppingBasket variables as they won't be\n",
        "# important in our analysis\n",
        "trainset = trainset.drop(['CustomerID', 'Shopping Basket'], axis = 1)\n",
        "\n",
        "testset = testset.drop(['CustomerID', 'Shopping Basket'], axis = 1)"
      ]
    },
    {
      "cell_type": "code",
      "execution_count": null,
      "id": "81ee191a",
      "metadata": {
        "id": "81ee191a",
        "outputId": "c310b591-0fa3-4bf5-e9d9-40b9cbb84f65"
      },
      "outputs": [
        {
          "data": {
            "text/html": [
              "<div>\n",
              "<style scoped>\n",
              "    .dataframe tbody tr th:only-of-type {\n",
              "        vertical-align: middle;\n",
              "    }\n",
              "\n",
              "    .dataframe tbody tr th {\n",
              "        vertical-align: top;\n",
              "    }\n",
              "\n",
              "    .dataframe thead th {\n",
              "        text-align: right;\n",
              "    }\n",
              "</style>\n",
              "<table border=\"1\" class=\"dataframe\">\n",
              "  <thead>\n",
              "    <tr style=\"text-align: right;\">\n",
              "      <th></th>\n",
              "      <th>Gender</th>\n",
              "      <th>Age</th>\n",
              "      <th>Store Type</th>\n",
              "      <th>Value Products</th>\n",
              "      <th>Brand Products</th>\n",
              "      <th>Top Fresco Products</th>\n",
              "      <th>SpendingRange</th>\n",
              "    </tr>\n",
              "  </thead>\n",
              "  <tbody>\n",
              "    <tr>\n",
              "      <th>510</th>\n",
              "      <td>Female</td>\n",
              "      <td>22</td>\n",
              "      <td>Convenient Stores</td>\n",
              "      <td>2</td>\n",
              "      <td>4</td>\n",
              "      <td>10</td>\n",
              "      <td>med_spender</td>\n",
              "    </tr>\n",
              "    <tr>\n",
              "      <th>502</th>\n",
              "      <td>Male</td>\n",
              "      <td>68</td>\n",
              "      <td>Online</td>\n",
              "      <td>18</td>\n",
              "      <td>9</td>\n",
              "      <td>12</td>\n",
              "      <td>med_spender</td>\n",
              "    </tr>\n",
              "    <tr>\n",
              "      <th>652</th>\n",
              "      <td>Female</td>\n",
              "      <td>36</td>\n",
              "      <td>Superstore</td>\n",
              "      <td>7</td>\n",
              "      <td>9</td>\n",
              "      <td>8</td>\n",
              "      <td>med_spender</td>\n",
              "    </tr>\n",
              "    <tr>\n",
              "      <th>204</th>\n",
              "      <td>Female</td>\n",
              "      <td>52</td>\n",
              "      <td>Superstore</td>\n",
              "      <td>30</td>\n",
              "      <td>18</td>\n",
              "      <td>14</td>\n",
              "      <td>high_spender</td>\n",
              "    </tr>\n",
              "    <tr>\n",
              "      <th>43</th>\n",
              "      <td>Female</td>\n",
              "      <td>23</td>\n",
              "      <td>Convenient Stores</td>\n",
              "      <td>9</td>\n",
              "      <td>4</td>\n",
              "      <td>2</td>\n",
              "      <td>low_spender</td>\n",
              "    </tr>\n",
              "  </tbody>\n",
              "</table>\n",
              "</div>"
            ],
            "text/plain": [
              "     Gender  Age         Store Type  Value Products  Brand Products  \\\n",
              "510  Female   22  Convenient Stores               2               4   \n",
              "502    Male   68             Online              18               9   \n",
              "652  Female   36         Superstore               7               9   \n",
              "204  Female   52         Superstore              30              18   \n",
              "43   Female   23  Convenient Stores               9               4   \n",
              "\n",
              "     Top Fresco Products SpendingRange  \n",
              "510                   10   med_spender  \n",
              "502                   12   med_spender  \n",
              "652                    8   med_spender  \n",
              "204                   14  high_spender  \n",
              "43                     2   low_spender  "
            ]
          },
          "execution_count": 15,
          "metadata": {},
          "output_type": "execute_result"
        }
      ],
      "source": [
        "trainset.head()"
      ]
    },
    {
      "cell_type": "code",
      "execution_count": null,
      "id": "ded72e0f",
      "metadata": {
        "id": "ded72e0f",
        "outputId": "49adbcc2-2f56-4c9a-824b-ff0b19391ee1"
      },
      "outputs": [
        {
          "data": {
            "text/html": [
              "<div>\n",
              "<style scoped>\n",
              "    .dataframe tbody tr th:only-of-type {\n",
              "        vertical-align: middle;\n",
              "    }\n",
              "\n",
              "    .dataframe tbody tr th {\n",
              "        vertical-align: top;\n",
              "    }\n",
              "\n",
              "    .dataframe thead th {\n",
              "        text-align: right;\n",
              "    }\n",
              "</style>\n",
              "<table border=\"1\" class=\"dataframe\">\n",
              "  <thead>\n",
              "    <tr style=\"text-align: right;\">\n",
              "      <th></th>\n",
              "      <th>Age</th>\n",
              "      <th>Value Products</th>\n",
              "      <th>Brand Products</th>\n",
              "      <th>Top Fresco Products</th>\n",
              "    </tr>\n",
              "  </thead>\n",
              "  <tbody>\n",
              "    <tr>\n",
              "      <th>count</th>\n",
              "      <td>525.000000</td>\n",
              "      <td>525.000000</td>\n",
              "      <td>525.000000</td>\n",
              "      <td>525.000000</td>\n",
              "    </tr>\n",
              "    <tr>\n",
              "      <th>mean</th>\n",
              "      <td>38.733333</td>\n",
              "      <td>15.847619</td>\n",
              "      <td>8.651429</td>\n",
              "      <td>6.977143</td>\n",
              "    </tr>\n",
              "    <tr>\n",
              "      <th>std</th>\n",
              "      <td>13.449557</td>\n",
              "      <td>12.327730</td>\n",
              "      <td>6.109561</td>\n",
              "      <td>5.230877</td>\n",
              "    </tr>\n",
              "    <tr>\n",
              "      <th>min</th>\n",
              "      <td>19.000000</td>\n",
              "      <td>0.000000</td>\n",
              "      <td>0.000000</td>\n",
              "      <td>-1.000000</td>\n",
              "    </tr>\n",
              "    <tr>\n",
              "      <th>25%</th>\n",
              "      <td>26.000000</td>\n",
              "      <td>6.000000</td>\n",
              "      <td>4.000000</td>\n",
              "      <td>3.000000</td>\n",
              "    </tr>\n",
              "    <tr>\n",
              "      <th>50%</th>\n",
              "      <td>38.000000</td>\n",
              "      <td>13.000000</td>\n",
              "      <td>8.000000</td>\n",
              "      <td>6.000000</td>\n",
              "    </tr>\n",
              "    <tr>\n",
              "      <th>75%</th>\n",
              "      <td>48.000000</td>\n",
              "      <td>22.000000</td>\n",
              "      <td>13.000000</td>\n",
              "      <td>10.000000</td>\n",
              "    </tr>\n",
              "    <tr>\n",
              "      <th>max</th>\n",
              "      <td>68.000000</td>\n",
              "      <td>52.000000</td>\n",
              "      <td>23.000000</td>\n",
              "      <td>22.000000</td>\n",
              "    </tr>\n",
              "  </tbody>\n",
              "</table>\n",
              "</div>"
            ],
            "text/plain": [
              "              Age  Value Products  Brand Products  Top Fresco Products\n",
              "count  525.000000      525.000000      525.000000           525.000000\n",
              "mean    38.733333       15.847619        8.651429             6.977143\n",
              "std     13.449557       12.327730        6.109561             5.230877\n",
              "min     19.000000        0.000000        0.000000            -1.000000\n",
              "25%     26.000000        6.000000        4.000000             3.000000\n",
              "50%     38.000000       13.000000        8.000000             6.000000\n",
              "75%     48.000000       22.000000       13.000000            10.000000\n",
              "max     68.000000       52.000000       23.000000            22.000000"
            ]
          },
          "execution_count": 16,
          "metadata": {},
          "output_type": "execute_result"
        }
      ],
      "source": [
        "trainset.describe()"
      ]
    },
    {
      "cell_type": "markdown",
      "id": "307a972b",
      "metadata": {
        "id": "307a972b"
      },
      "source": [
        "#### Data Visualization"
      ]
    },
    {
      "cell_type": "code",
      "execution_count": null,
      "id": "e84e2d72",
      "metadata": {
        "id": "e84e2d72",
        "outputId": "c5f1b457-d560-4d00-c351-56fcc3c39326"
      },
      "outputs": [
        {
          "data": {
            "text/plain": [
              "<AxesSubplot:xlabel='Gender', ylabel='count'>"
            ]
          },
          "execution_count": 17,
          "metadata": {},
          "output_type": "execute_result"
        },
        {
          "data": {
            "image/png": "[encoded data removed]",
            "text/plain": [
              "<Figure size 432x288 with 1 Axes>"
            ]
          },
          "metadata": {},
          "output_type": "display_data"
        }
      ],
      "source": [
        "#The barchart of the gender variable\n",
        "sns.countplot(trainset[\"Gender\"], \n",
        "              order=trainset[\"Gender\"].value_counts(ascending=True).index)\n"
      ]
    },
    {
      "cell_type": "code",
      "execution_count": null,
      "id": "db85fa95",
      "metadata": {
        "id": "db85fa95",
        "outputId": "7d142ebc-a7a8-4eb0-e139-8214eb1d9ce6"
      },
      "outputs": [
        {
          "data": {
            "text/plain": [
              "<AxesSubplot:xlabel='Store Type', ylabel='count'>"
            ]
          },
          "execution_count": 18,
          "metadata": {},
          "output_type": "execute_result"
        },
        {
          "data": {
            "image/png": "[encoded data removed]",
            "text/plain": [
              "<Figure size 432x288 with 1 Axes>"
            ]
          },
          "metadata": {},
          "output_type": "display_data"
        }
      ],
      "source": [
        "#The barchart of the store type variable\n",
        "sns.countplot(trainset[\"Store Type\"], \n",
        "              order=trainset[\"Store Type\"].value_counts(ascending=True).index)"
      ]
    },
    {
      "cell_type": "code",
      "execution_count": null,
      "id": "1b4e9c9d",
      "metadata": {
        "id": "1b4e9c9d",
        "outputId": "ef1a98dc-a929-48ab-fd0d-d6cc14fba917"
      },
      "outputs": [
        {
          "data": {
            "text/plain": [
              "<AxesSubplot:xlabel='SpendingRange', ylabel='count'>"
            ]
          },
          "execution_count": 19,
          "metadata": {},
          "output_type": "execute_result"
        },
        {
          "data": {
            "image/png": "[encoded data removed]",
            "text/plain": [
              "<Figure size 432x288 with 1 Axes>"
            ]
          },
          "metadata": {},
          "output_type": "display_data"
        }
      ],
      "source": [
        "#The barchart of the spending range variable\n",
        "sns.countplot(trainset[\"SpendingRange\"], \n",
        "              order=trainset[\"SpendingRange\"].value_counts(ascending=True).index)"
      ]
    },
    {
      "cell_type": "code",
      "execution_count": null,
      "id": "80a6b77a",
      "metadata": {
        "scrolled": false,
        "id": "80a6b77a",
        "outputId": "4a986855-ec7f-4a53-c154-78fa36984a96"
      },
      "outputs": [
        {
          "data": {
            "image/png": "[encoded data removed]",
            "text/plain": [
              "<Figure size 720x864 with 4 Axes>"
            ]
          },
          "metadata": {},
          "output_type": "display_data"
        }
      ],
      "source": [
        "#The histogram of all continuous variables in the trainset.\n",
        "histograms = trainset.hist(bins=10, figsize=(10,12))\n"
      ]
    },
    {
      "cell_type": "code",
      "execution_count": null,
      "id": "593587eb",
      "metadata": {
        "id": "593587eb",
        "outputId": "1a59da93-367b-4210-84aa-51bcc24ecb4d"
      },
      "outputs": [
        {
          "data": {
            "image/png": "[encoded data removed]",
            "text/plain": [
              "<Figure size 864x576 with 16 Axes>"
            ]
          },
          "metadata": {},
          "output_type": "display_data"
        }
      ],
      "source": [
        "#scatter plots showing the relationship between the continous variables\n",
        "scatter_plots = scatter_matrix(trainset, figsize=(12, 8))"
      ]
    },
    {
      "cell_type": "markdown",
      "id": "d3f68238",
      "metadata": {
        "id": "d3f68238"
      },
      "source": [
        "### Model Building\n"
      ]
    },
    {
      "cell_type": "code",
      "execution_count": null,
      "id": "b106549d",
      "metadata": {
        "id": "b106549d"
      },
      "outputs": [],
      "source": [
        "#recoding the categories for each categorical variable to numbers\n",
        "\n",
        "#for the train set\n",
        "\n",
        "#for Gender\n",
        "# 1 represent Female\n",
        "# 0 represent Male\n",
        "trainset['Gender'] = trainset['Gender'].replace({\n",
        "    'Male': 0,\n",
        "    'Female': 1\n",
        "})\n",
        "\n",
        "#for Store Type\n",
        "# 0 represent Convenient Stores \n",
        "# 1 represent Online\n",
        "# 2 represent Superstore\n",
        "trainset['Store Type'] = trainset['Store Type'].replace({\n",
        "    'Convenient Stores': 0,\n",
        "    'Online': 1,\n",
        "    'Superstore': 2 \n",
        "})\n",
        "\n",
        "\n",
        "#for SpendingRange\n",
        "# 0 represent low_spender\n",
        "# 1 represent med_spender\n",
        "# 2 represent high_spender\n",
        "trainset['SpendingRange'] = trainset['SpendingRange'].replace({\n",
        "    'low_spender': 0,\n",
        "    'med_spender': 1,\n",
        "    'high_spender': 2 \n",
        "})\n",
        "\n"
      ]
    },
    {
      "cell_type": "code",
      "execution_count": null,
      "id": "68b94a9c",
      "metadata": {
        "id": "68b94a9c"
      },
      "outputs": [],
      "source": [
        "#for the test set\n",
        "\n",
        "#for Gender\n",
        "testset['Gender'] = testset['Gender'].replace({\n",
        "    'Male': 0,\n",
        "    'Female': 1\n",
        "})\n",
        "\n",
        "#for Store Type\n",
        "testset['Store Type'] = testset['Store Type'].replace({\n",
        "    'Convenient Stores': 0,\n",
        "    'Online': 1,\n",
        "    'Superstore': 2 \n",
        "})\n",
        "\n",
        "\n",
        "#for SpendingRange\n",
        "testset['SpendingRange'] = testset['SpendingRange'].replace({\n",
        "    'low_spender': 0,\n",
        "    'med_spender': 1,\n",
        "    'high_spender': 2 \n",
        "})"
      ]
    },
    {
      "cell_type": "code",
      "execution_count": null,
      "id": "82e63639",
      "metadata": {
        "id": "82e63639"
      },
      "outputs": [],
      "source": [
        "#dividing the test and train sets into the target variable(y) and\n",
        "# the independent variables (X)\n",
        "\n",
        "X_train = trainset.drop('SpendingRange', axis = 1)\n",
        "y_train = trainset['SpendingRange']\n",
        "\n",
        "\n",
        "X_test = testset.drop('SpendingRange', axis = 1)\n",
        "y_test = testset['SpendingRange']"
      ]
    },
    {
      "cell_type": "code",
      "execution_count": null,
      "id": "2d83b015",
      "metadata": {
        "scrolled": false,
        "id": "2d83b015",
        "outputId": "57a7874a-9e66-4ebc-c708-1d108b39bcf4"
      },
      "outputs": [
        {
          "data": {
            "text/html": [
              "<div>\n",
              "<style scoped>\n",
              "    .dataframe tbody tr th:only-of-type {\n",
              "        vertical-align: middle;\n",
              "    }\n",
              "\n",
              "    .dataframe tbody tr th {\n",
              "        vertical-align: top;\n",
              "    }\n",
              "\n",
              "    .dataframe thead th {\n",
              "        text-align: right;\n",
              "    }\n",
              "</style>\n",
              "<table border=\"1\" class=\"dataframe\">\n",
              "  <thead>\n",
              "    <tr style=\"text-align: right;\">\n",
              "      <th></th>\n",
              "      <th>Gender</th>\n",
              "      <th>Age</th>\n",
              "      <th>Store Type</th>\n",
              "      <th>Value Products</th>\n",
              "      <th>Brand Products</th>\n",
              "      <th>Top Fresco Products</th>\n",
              "    </tr>\n",
              "  </thead>\n",
              "  <tbody>\n",
              "    <tr>\n",
              "      <th>510</th>\n",
              "      <td>1</td>\n",
              "      <td>22</td>\n",
              "      <td>0</td>\n",
              "      <td>2</td>\n",
              "      <td>4</td>\n",
              "      <td>10</td>\n",
              "    </tr>\n",
              "    <tr>\n",
              "      <th>502</th>\n",
              "      <td>0</td>\n",
              "      <td>68</td>\n",
              "      <td>1</td>\n",
              "      <td>18</td>\n",
              "      <td>9</td>\n",
              "      <td>12</td>\n",
              "    </tr>\n",
              "    <tr>\n",
              "      <th>652</th>\n",
              "      <td>1</td>\n",
              "      <td>36</td>\n",
              "      <td>2</td>\n",
              "      <td>7</td>\n",
              "      <td>9</td>\n",
              "      <td>8</td>\n",
              "    </tr>\n",
              "    <tr>\n",
              "      <th>204</th>\n",
              "      <td>1</td>\n",
              "      <td>52</td>\n",
              "      <td>2</td>\n",
              "      <td>30</td>\n",
              "      <td>18</td>\n",
              "      <td>14</td>\n",
              "    </tr>\n",
              "    <tr>\n",
              "      <th>43</th>\n",
              "      <td>1</td>\n",
              "      <td>23</td>\n",
              "      <td>0</td>\n",
              "      <td>9</td>\n",
              "      <td>4</td>\n",
              "      <td>2</td>\n",
              "    </tr>\n",
              "  </tbody>\n",
              "</table>\n",
              "</div>"
            ],
            "text/plain": [
              "     Gender  Age  Store Type  Value Products  Brand Products  \\\n",
              "510       1   22           0               2               4   \n",
              "502       0   68           1              18               9   \n",
              "652       1   36           2               7               9   \n",
              "204       1   52           2              30              18   \n",
              "43        1   23           0               9               4   \n",
              "\n",
              "     Top Fresco Products  \n",
              "510                   10  \n",
              "502                   12  \n",
              "652                    8  \n",
              "204                   14  \n",
              "43                     2  "
            ]
          },
          "execution_count": 25,
          "metadata": {},
          "output_type": "execute_result"
        }
      ],
      "source": [
        "X_train.head()"
      ]
    },
    {
      "cell_type": "code",
      "execution_count": null,
      "id": "2145d181",
      "metadata": {
        "id": "2145d181",
        "outputId": "3d5c59a7-8297-43cb-d1b1-c30fd6b97308"
      },
      "outputs": [
        {
          "data": {
            "text/plain": [
              "510    1\n",
              "502    1\n",
              "652    1\n",
              "204    2\n",
              "43     0\n",
              "Name: SpendingRange, dtype: int64"
            ]
          },
          "execution_count": 26,
          "metadata": {},
          "output_type": "execute_result"
        }
      ],
      "source": [
        "y_train.head()"
      ]
    },
    {
      "cell_type": "markdown",
      "id": "2437ebaa",
      "metadata": {
        "id": "2437ebaa"
      },
      "source": [
        "#### Base Model\n"
      ]
    },
    {
      "cell_type": "code",
      "execution_count": null,
      "id": "e4e616de",
      "metadata": {
        "id": "e4e616de",
        "outputId": "7cfef8ce-1671-42b2-ff53-3c1bcb982c8d"
      },
      "outputs": [
        {
          "name": "stdout",
          "output_type": "stream",
          "text": [
            "Base Model's Accuracy is:  0.3980952380952381\n",
            "Base Model's Precision is:  0.1326984126984127\n",
            "Base Model's Recall is:  0.3333333333333333\n",
            "Base Model's F1 Score is:  0.18982742960944599\n"
          ]
        }
      ],
      "source": [
        "#for this project, the base model's prediction will be the mode of the SpendingRange\n",
        "\n",
        "yhat_base = np.full((y_train.shape[0], 1), y_train.mode())\n",
        "\n",
        "\n",
        "#viewing the accuracy and the macro averaged precision, recall and F1 score of the base model\n",
        "print('Base Model\\'s Accuracy is: ', accuracy_score(y_train, yhat_base))\n",
        "print('Base Model\\'s Precision is: ', precision_score(y_train, yhat_base, average = 'macro'))\n",
        "print('Base Model\\'s Recall is: ', recall_score(y_train, yhat_base, average = 'macro'))\n",
        "print('Base Model\\'s F1 Score is: ', f1_score(y_train, yhat_base, average = 'macro'))"
      ]
    },
    {
      "cell_type": "markdown",
      "id": "ed881927",
      "metadata": {
        "id": "ed881927"
      },
      "source": [
        "#### Checking For Linearity"
      ]
    },
    {
      "cell_type": "markdown",
      "id": "4414e461",
      "metadata": {
        "id": "4414e461"
      },
      "source": [
        "Before estimating the model, we check for linearity by running a logistic regression including all interactions between the independent continuous variables and their natural log values."
      ]
    },
    {
      "cell_type": "code",
      "execution_count": null,
      "id": "d975e28f",
      "metadata": {
        "id": "d975e28f"
      },
      "outputs": [],
      "source": [
        "\n",
        "#Interactions\n",
        "X_train['Age*lnAge'] = np.log(X_train['Age']) * X_train['Age']\n",
        "X_train['ValueProducts*lnValueProducts'] = np.log(X_train['Value Products']) * X_train['Value Products']\n",
        "X_train['BrandProducts*lnBrandProducts'] = np.log(X_train['Brand Products']) * X_train['Brand Products']\n",
        "X_train['TopFrescoProducts*lnTopFrescoProducts'] = np.log(X_train['Top Fresco Products']) * X_train['Top Fresco Products']\n",
        "\n",
        "X_train['Age*lnAge'] = X_train['Age*lnAge'].replace({\n",
        "    np.nan : 0\n",
        "})\n",
        "X_train['ValueProducts*lnValueProducts'] = X_train['ValueProducts*lnValueProducts'].replace({\n",
        "    np.nan : 0\n",
        "})\n",
        "X_train['BrandProducts*lnBrandProducts'] = X_train['BrandProducts*lnBrandProducts'].replace({\n",
        "    np.nan : 0\n",
        "})\n",
        "X_train['TopFrescoProducts*lnTopFrescoProducts'] = X_train['TopFrescoProducts*lnTopFrescoProducts'].replace({\n",
        "    np.nan : 0\n",
        "})\n",
        "\n"
      ]
    },
    {
      "cell_type": "code",
      "execution_count": null,
      "id": "95e8baf7",
      "metadata": {
        "id": "95e8baf7"
      },
      "outputs": [],
      "source": [
        "#interaction variables\n",
        "interaction_vars = ['Age', 'Value Products', 'Brand Products', 'Top Fresco Products',\n",
        "                    'Age*lnAge', 'ValueProducts*lnValueProducts', \n",
        "                    'BrandProducts*lnBrandProducts', \n",
        "                    'TopFrescoProducts*lnTopFrescoProducts']\n",
        "\n",
        "X_ln = X_train[interaction_vars]\n",
        "\n",
        "#using the statsmodel Logistic regression so i can check the p-values of interaction terms\n",
        "linearity_model = sm.MNLogit(y_train,sm.add_constant(X_ln))\n"
      ]
    },
    {
      "cell_type": "code",
      "execution_count": null,
      "id": "da1fe51b",
      "metadata": {
        "id": "da1fe51b",
        "outputId": "0a0b5ef5-69b8-4697-92cf-8a0236de7f1a"
      },
      "outputs": [
        {
          "name": "stdout",
          "output_type": "stream",
          "text": [
            "Optimization terminated successfully.\n",
            "         Current function value: 0.319525\n",
            "         Iterations 11\n",
            "                          MNLogit Regression Results                          \n",
            "==============================================================================\n",
            "Dep. Variable:          SpendingRange   No. Observations:                  525\n",
            "Model:                        MNLogit   Df Residuals:                      507\n",
            "Method:                           MLE   Df Model:                           16\n",
            "Date:                Sun, 17 Jul 2022   Pseudo R-squ.:                  0.7024\n",
            "Time:                        11:24:30   Log-Likelihood:                -167.75\n",
            "converged:                       True   LL-Null:                       -563.68\n",
            "Covariance Type:            nonrobust   LLR p-value:                3.452e-158\n",
            "=========================================================================================================\n",
            "                      SpendingRange=1       coef    std err          z      P>|z|      [0.025      0.975]\n",
            "---------------------------------------------------------------------------------------------------------\n",
            "const                                   -29.1031      5.241     -5.553      0.000     -39.376     -18.830\n",
            "Age                                       3.2384      0.651      4.975      0.000       1.963       4.514\n",
            "Value Products                            0.3034      0.447      0.679      0.497      -0.573       1.179\n",
            "Brand Products                            0.8175      0.415      1.970      0.049       0.004       1.631\n",
            "Top Fresco Products                      -0.7025      0.378     -1.856      0.063      -1.444       0.039\n",
            "Age*lnAge                                -0.6941      0.140     -4.965      0.000      -0.968      -0.420\n",
            "ValueProducts*lnValueProducts             0.0254      0.169      0.150      0.880      -0.306       0.357\n",
            "BrandProducts*lnBrandProducts            -0.1834      0.173     -1.060      0.289      -0.522       0.156\n",
            "TopFrescoProducts*lnTopFrescoProducts     0.4785      0.174      2.746      0.006       0.137       0.820\n",
            "---------------------------------------------------------------------------------------------------------\n",
            "                      SpendingRange=2       coef    std err          z      P>|z|      [0.025      0.975]\n",
            "---------------------------------------------------------------------------------------------------------\n",
            "const                                   -94.0523     13.577     -6.927      0.000    -120.662     -67.443\n",
            "Age                                       9.2194      1.360      6.780      0.000       6.554      11.884\n",
            "Value Products                           -0.5701      0.524     -1.087      0.277      -1.598       0.458\n",
            "Brand Products                            0.8166      0.779      1.049      0.294      -0.710       2.343\n",
            "Top Fresco Products                      -0.0996      0.527     -0.189      0.850      -1.132       0.933\n",
            "Age*lnAge                                -1.8891      0.278     -6.795      0.000      -2.434      -1.344\n",
            "ValueProducts*lnValueProducts             0.2598      0.182      1.431      0.152      -0.096       0.616\n",
            "BrandProducts*lnBrandProducts            -0.1269      0.263     -0.482      0.630      -0.643       0.389\n",
            "TopFrescoProducts*lnTopFrescoProducts     0.3664      0.212      1.729      0.084      -0.049       0.782\n",
            "=========================================================================================================\n"
          ]
        }
      ],
      "source": [
        "result = linearity_model.fit()\n",
        "\n",
        "print(result.summary())"
      ]
    },
    {
      "cell_type": "markdown",
      "id": "4abec4ba",
      "metadata": {
        "id": "4abec4ba"
      },
      "source": [
        "For the assumption of linearity to hold, none of the interactions should have a significant coefficient.\n",
        "\n",
        "From the table above, the significance of the coefficients of the interactions of all continous variables except 'Age' are greater than 0.05 in at least one of the logistic models. \n",
        "\n",
        "This implies that for the linearity assumption to hold, the age variable has to be removed. "
      ]
    },
    {
      "cell_type": "markdown",
      "id": "d0ef1913",
      "metadata": {
        "id": "d0ef1913"
      },
      "source": [
        "#### Model Estimation"
      ]
    },
    {
      "cell_type": "markdown",
      "id": "e6f846b1",
      "metadata": {
        "id": "e6f846b1"
      },
      "source": [
        "The Multinomial Logistic Regression model is estimated using statsmodel Logistic regression with the reference category being spending range with value of 0, low spenders."
      ]
    },
    {
      "cell_type": "code",
      "execution_count": null,
      "id": "61f81ec2",
      "metadata": {
        "scrolled": false,
        "id": "61f81ec2",
        "outputId": "441e6bdf-9f2e-4e52-c9db-0bc7dc9bb20b"
      },
      "outputs": [
        {
          "name": "stdout",
          "output_type": "stream",
          "text": [
            "Optimization terminated successfully.\n",
            "         Current function value: 0.408808\n",
            "         Iterations 10\n",
            "                          MNLogit Regression Results                          \n",
            "==============================================================================\n",
            "Dep. Variable:          SpendingRange   No. Observations:                  525\n",
            "Model:                        MNLogit   Df Residuals:                      513\n",
            "Method:                           MLE   Df Model:                           10\n",
            "Date:                Sun, 17 Jul 2022   Pseudo R-squ.:                  0.6192\n",
            "Time:                        11:26:59   Log-Likelihood:                -214.62\n",
            "converged:                       True   LL-Null:                       -563.68\n",
            "Covariance Type:            nonrobust   LLR p-value:                1.595e-143\n",
            "=======================================================================================\n",
            "    SpendingRange=1       coef    std err          z      P>|z|      [0.025      0.975]\n",
            "---------------------------------------------------------------------------------------\n",
            "const                  -6.0514      0.758     -7.984      0.000      -7.537      -4.566\n",
            "Gender                  1.4323      0.417      3.436      0.001       0.615       2.249\n",
            "Store Type              0.0466      0.221      0.211      0.833      -0.387       0.480\n",
            "Value Products          0.4197      0.067      6.304      0.000       0.289       0.550\n",
            "Brand Products          0.4451      0.090      4.932      0.000       0.268       0.622\n",
            "Top Fresco Products     0.3232      0.079      4.092      0.000       0.168       0.478\n",
            "---------------------------------------------------------------------------------------\n",
            "    SpendingRange=2       coef    std err          z      P>|z|      [0.025      0.975]\n",
            "---------------------------------------------------------------------------------------\n",
            "const                 -12.5778      1.076    -11.694      0.000     -14.686     -10.470\n",
            "Gender                  2.0202      0.530      3.810      0.000       0.981       3.059\n",
            "Store Type              0.2464      0.336      0.733      0.463      -0.412       0.905\n",
            "Value Products          0.5188      0.071      7.342      0.000       0.380       0.657\n",
            "Brand Products          0.6563      0.099      6.650      0.000       0.463       0.850\n",
            "Top Fresco Products     0.5650      0.089      6.347      0.000       0.391       0.739\n",
            "=======================================================================================\n"
          ]
        }
      ],
      "source": [
        "#droppping the age variables and the interactions\n",
        "X_train = X_train.drop(['Age', 'Age*lnAge', 'ValueProducts*lnValueProducts', \n",
        "              'BrandProducts*lnBrandProducts', \n",
        "              'TopFrescoProducts*lnTopFrescoProducts'], axis = 1)\n",
        "\n",
        "#using the statsmodel Logistic regression \n",
        "main_model = sm.MNLogit(y_train,sm.add_constant(X_train))\n",
        "\n",
        "result = main_model.fit()\n",
        "print(result.summary())"
      ]
    },
    {
      "cell_type": "markdown",
      "id": "b13a5f45",
      "metadata": {
        "id": "b13a5f45"
      },
      "source": [
        "Variables with significance greater than 0.05 are removed as they are statistically insignificant in the model. \n",
        "\n",
        "Only the store type is insignificant in our model.\n",
        "\n",
        "\n",
        "The parsimonious model is obtained by removing the most insignificant variables and re-estimating the model until all variables are significant in at least one logisitic model. "
      ]
    },
    {
      "cell_type": "code",
      "execution_count": null,
      "id": "9d6820a5",
      "metadata": {
        "id": "9d6820a5",
        "outputId": "f0021065-7b49-4a3c-de58-fdc39fa25a98"
      },
      "outputs": [
        {
          "name": "stdout",
          "output_type": "stream",
          "text": [
            "Optimization terminated successfully.\n",
            "         Current function value: 0.409447\n",
            "         Iterations 10\n",
            "                          MNLogit Regression Results                          \n",
            "==============================================================================\n",
            "Dep. Variable:          SpendingRange   No. Observations:                  525\n",
            "Model:                        MNLogit   Df Residuals:                      515\n",
            "Method:                           MLE   Df Model:                            8\n",
            "Date:                Sun, 17 Jul 2022   Pseudo R-squ.:                  0.6187\n",
            "Time:                        11:45:53   Log-Likelihood:                -214.96\n",
            "converged:                       True   LL-Null:                       -563.68\n",
            "Covariance Type:            nonrobust   LLR p-value:                2.542e-145\n",
            "=======================================================================================\n",
            "    SpendingRange=1       coef    std err          z      P>|z|      [0.025      0.975]\n",
            "---------------------------------------------------------------------------------------\n",
            "const                  -6.0708      0.757     -8.016      0.000      -7.555      -4.586\n",
            "Gender                  1.4391      0.414      3.475      0.001       0.627       2.251\n",
            "Value Products          0.4217      0.066      6.394      0.000       0.292       0.551\n",
            "Brand Products          0.4529      0.084      5.397      0.000       0.288       0.617\n",
            "Top Fresco Products     0.3256      0.078      4.171      0.000       0.173       0.479\n",
            "---------------------------------------------------------------------------------------\n",
            "    SpendingRange=2       coef    std err          z      P>|z|      [0.025      0.975]\n",
            "---------------------------------------------------------------------------------------\n",
            "const                 -12.2994      0.994    -12.377      0.000     -14.247     -10.352\n",
            "Gender                  2.0969      0.521      4.024      0.000       1.075       3.118\n",
            "Value Products          0.5195      0.070      7.411      0.000       0.382       0.657\n",
            "Brand Products          0.6619      0.093      7.127      0.000       0.480       0.844\n",
            "Top Fresco Products     0.5694      0.088      6.454      0.000       0.397       0.742\n",
            "=======================================================================================\n"
          ]
        }
      ],
      "source": [
        "#droppping the store type variables\n",
        "#X_train = X_train.drop(['Store Type'], axis = 1)\n",
        "\n",
        "#using the statsmodel Logistic regression \n",
        "main_model = sm.MNLogit(y_train,sm.add_constant(X_train))\n",
        "\n",
        "result = main_model.fit()\n",
        "print(result.summary())"
      ]
    },
    {
      "cell_type": "markdown",
      "id": "852fb238",
      "metadata": {
        "id": "852fb238"
      },
      "source": [
        "From the table above, all variables are significant in at least one of the logistic models. This is our parsimonious model. "
      ]
    },
    {
      "cell_type": "markdown",
      "id": "a9194e6d",
      "metadata": {
        "id": "a9194e6d"
      },
      "source": [
        "### Checking for Assumptions\n",
        "Before estimating the model, we checked for linearity. The assumption of linearity holds. \n",
        "For independence of errors, we also checked if the ratio between the chi-squared value for the goodness of fit test and its degrees of freedom is lower than 2.  "
      ]
    },
    {
      "cell_type": "code",
      "execution_count": null,
      "id": "c614f16e",
      "metadata": {
        "id": "c614f16e",
        "outputId": "f5fc113a-dc0d-451a-ff07-5236d2f9aea2"
      },
      "outputs": [
        {
          "ename": "TypeError",
          "evalue": "predict() got multiple values for argument 'exog'",
          "output_type": "error",
          "traceback": [
            "\u001b[0;31m---------------------------------------------------------------------------\u001b[0m",
            "\u001b[0;31mTypeError\u001b[0m                                 Traceback (most recent call last)",
            "\u001b[0;32m/var/folders/rb/2h3wjl9j3d1d83vjpgfl1y900000gn/T/ipykernel_62811/1979606820.py\u001b[0m in \u001b[0;36m<module>\u001b[0;34m\u001b[0m\n\u001b[0;32m----> 1\u001b[0;31m \u001b[0mobserved\u001b[0m \u001b[0;34m=\u001b[0m \u001b[0mresult\u001b[0m\u001b[0;34m.\u001b[0m\u001b[0mpredict\u001b[0m\u001b[0;34m(\u001b[0m\u001b[0mX_test\u001b[0m\u001b[0;34m,\u001b[0m \u001b[0mexog\u001b[0m\u001b[0;34m=\u001b[0m\u001b[0;32mNone\u001b[0m\u001b[0;34m,\u001b[0m \u001b[0mlinear\u001b[0m\u001b[0;34m=\u001b[0m\u001b[0;32mFalse\u001b[0m\u001b[0;34m)\u001b[0m\u001b[0;34m\u001b[0m\u001b[0;34m\u001b[0m\u001b[0m\n\u001b[0m\u001b[1;32m      2\u001b[0m \u001b[0mstats\u001b[0m\u001b[0;34m.\u001b[0m\u001b[0mchi2_contingency\u001b[0m\u001b[0;34m(\u001b[0m\u001b[0mobserved\u001b[0m\u001b[0;34m=\u001b[0m \u001b[0mobserved\u001b[0m\u001b[0;34m)\u001b[0m\u001b[0;34m\u001b[0m\u001b[0;34m\u001b[0m\u001b[0m\n",
            "\u001b[0;31mTypeError\u001b[0m: predict() got multiple values for argument 'exog'"
          ]
        }
      ],
      "source": [
        "observed = result.predict(X_test, exog=None, linear=False)\n",
        "stats.chi2_contingency(observed= observed)"
      ]
    },
    {
      "cell_type": "code",
      "execution_count": null,
      "id": "fd98c6fa",
      "metadata": {
        "id": "fd98c6fa",
        "outputId": "4250cfee-a294-4e04-8ba1-c34b24f3b204"
      },
      "outputs": [
        {
          "data": {
            "text/html": [
              "<div>\n",
              "<style scoped>\n",
              "    .dataframe tbody tr th:only-of-type {\n",
              "        vertical-align: middle;\n",
              "    }\n",
              "\n",
              "    .dataframe tbody tr th {\n",
              "        vertical-align: top;\n",
              "    }\n",
              "\n",
              "    .dataframe thead th {\n",
              "        text-align: right;\n",
              "    }\n",
              "</style>\n",
              "<table border=\"1\" class=\"dataframe\">\n",
              "  <thead>\n",
              "    <tr style=\"text-align: right;\">\n",
              "      <th></th>\n",
              "      <th>variables</th>\n",
              "      <th>VIF</th>\n",
              "    </tr>\n",
              "  </thead>\n",
              "  <tbody>\n",
              "    <tr>\n",
              "      <th>0</th>\n",
              "      <td>Value Products</td>\n",
              "      <td>7.258483</td>\n",
              "    </tr>\n",
              "    <tr>\n",
              "      <th>1</th>\n",
              "      <td>Brand Products</td>\n",
              "      <td>7.015261</td>\n",
              "    </tr>\n",
              "    <tr>\n",
              "      <th>2</th>\n",
              "      <td>Top Fresco Products</td>\n",
              "      <td>4.625377</td>\n",
              "    </tr>\n",
              "  </tbody>\n",
              "</table>\n",
              "</div>"
            ],
            "text/plain": [
              "             variables       VIF\n",
              "0       Value Products  7.258483\n",
              "1       Brand Products  7.015261\n",
              "2  Top Fresco Products  4.625377"
            ]
          },
          "execution_count": 41,
          "metadata": {},
          "output_type": "execute_result"
        }
      ],
      "source": [
        "pd.DataFrame({'variables':X_train.columns[1:], \n",
        "              'VIF':[variance_inflation_factor(X_train.values, \n",
        "                                               i+1) for i in range(len(X_train.columns[1:]))]})\n",
        "\n",
        "\n",
        "\n",
        "\n"
      ]
    },
    {
      "cell_type": "code",
      "execution_count": null,
      "id": "f3bbc3be",
      "metadata": {
        "id": "f3bbc3be"
      },
      "outputs": [],
      "source": [
        ""
      ]
    }
  ],
  "metadata": {
    "kernelspec": {
      "display_name": "Python 3 (ipykernel)",
      "language": "python",
      "name": "python3"
    },
    "language_info": {
      "codemirror_mode": {
        "name": "ipython",
        "version": 3
      },
      "file_extension": ".py",
      "mimetype": "text/x-python",
      "name": "python",
      "nbconvert_exporter": "python",
      "pygments_lexer": "ipython3",
      "version": "3.9.7"
    },
    "colab": {
      "name": "Logistic Regression.ipynb",
      "provenance": [],
      "include_colab_link": true
    }
  },
  "nbformat": 4,
  "nbformat_minor": 5
}